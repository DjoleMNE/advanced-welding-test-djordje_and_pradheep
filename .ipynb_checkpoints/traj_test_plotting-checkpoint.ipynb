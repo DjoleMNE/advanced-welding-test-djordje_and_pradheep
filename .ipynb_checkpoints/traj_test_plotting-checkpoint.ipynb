{
 "cells": [
  {
   "cell_type": "code",
   "execution_count": 1,
   "metadata": {},
   "outputs": [],
   "source": [
    "import numpy as np\n",
    "import sympy as sp\n",
    "import matplotlib.pyplot as plt\n",
    "import matplotlib.patches as mpatches\n",
    "from mpl_toolkits.axes_grid1.inset_locator import zoomed_inset_axes\n",
    "from mpl_toolkits.axes_grid1.inset_locator import mark_inset\n",
    "from random import gauss\n",
    "sp.init_printing()\n",
    "%matplotlib inline"
   ]
  },
  {
   "cell_type": "markdown",
   "metadata": {},
   "source": [
    "## Sin/Cos trajectory"
   ]
  },
  {
   "cell_type": "code",
   "execution_count": 2,
   "metadata": {},
   "outputs": [],
   "source": [
    "def generate_sin_wave(phase, amplitude, steps):\n",
    "\n",
    "    times, time_step = np.linspace(0, 2 * np.pi, steps, retstep=True)\n",
    "    wave = np.zeros((steps,2))\n",
    "    \n",
    "    for i in range(steps):\n",
    "        \n",
    "        wave[i,0] = times[i]\n",
    "        wave[i,1] = amplitude * np.sin(times[i] + phase)\n",
    "        \n",
    "    return wave, time_step\n",
    "\n",
    "def generate_sin_velocity(wave, step_size_x, time_step):\n",
    "    velocity = np.zeros((len(wave[:,1]),2))\n",
    "\n",
    "    for i in range(len(wave[:,1])-1):\n",
    "        velocity[i,0] = step_size_x/time_step\n",
    "        velocity[i,1] = (wave[i+1,1] - wave[i,1])/time_step\n",
    "        \n",
    "    return velocity"
   ]
  },
  {
   "cell_type": "code",
   "execution_count": 9,
   "metadata": {},
   "outputs": [
    {
     "name": "stdout",
     "output_type": "stream",
     "text": [
      "(5, 2)\n",
      "[[   157.07963268  10000.        ]\n",
      " [   157.07963268 -10000.        ]\n",
      " [   157.07963268 -10000.        ]\n",
      " [   157.07963268  10000.        ]\n",
      " [     0.              0.        ]]\n"
     ]
    },
    {
     "data": {
      "image/png": "[encoded data removed]",
      "text/plain": [
       "<matplotlib.figure.Figure at 0x7f71fdd64110>"
      ]
     },
     "metadata": {},
     "output_type": "display_data"
    }
   ],
   "source": [
    "plt.figure(figsize=(15,3))\n",
    "\n",
    "# In how many points we need to split path\n",
    "steps = 5\n",
    "\n",
    "phase = 0 #For specifying the cosine type of traj. use pi/2\n",
    "\n",
    "#need to scaled for desired unit..maximum in y direction\n",
    "amplitude = 100.0\n",
    "\n",
    "\n",
    "wave, step_size_x = generate_sin_wave(phase, amplitude, steps)\n",
    "plt.plot(wave[:,0], wave[:,1], \"r\")\n",
    "print(wave.shape)\n",
    "time_step = 0.01\n",
    "velocity = generate_sin_velocity(wave, step_size_x, time_step)\n",
    "print(velocity)"
   ]
  },
  {
   "cell_type": "markdown",
   "metadata": {},
   "source": [
    "## Square trajectory "
   ]
  },
  {
   "cell_type": "code",
   "execution_count": 10,
   "metadata": {},
   "outputs": [],
   "source": [
    "def generate_square_wave(amplitude, steps, phase):\n",
    "\n",
    "    times, time_step = np.linspace(0, 2 * np.pi, steps, retstep=True)\n",
    "    wave = np.zeros((steps,2))\n",
    "    \n",
    "    for i in range(steps):\n",
    "        \n",
    "        wave[i,0] = times[i]\n",
    "        wave[i,1] = amplitude * np.sign(np.sin(times[i] + phase))\n",
    "        \n",
    "    return wave, time_step\n"
   ]
  },
  {
   "cell_type": "code",
   "execution_count": 14,
   "metadata": {},
   "outputs": [
    {
     "name": "stdout",
     "output_type": "stream",
     "text": [
      "[[   0.          100.        ]\n",
      " [   0.6981317   100.        ]\n",
      " [   1.3962634   100.        ]\n",
      " [   2.0943951  -100.        ]\n",
      " [   2.7925268  -100.        ]\n",
      " [   3.4906585  -100.        ]\n",
      " [   4.1887902  -100.        ]\n",
      " [   4.88692191  100.        ]\n",
      " [   5.58505361  100.        ]\n",
      " [   6.28318531  100.        ]]\n"
     ]
    },
    {
     "data": {
      "image/png": "[encoded data removed]",
      "text/plain": [
       "<matplotlib.figure.Figure at 0x7f71fdbd8510>"
      ]
     },
     "metadata": {},
     "output_type": "display_data"
    }
   ],
   "source": [
    "plt.figure(figsize=(15,3))\n",
    "\n",
    "# In how many points we need to split path\n",
    "steps = 10\n",
    "\n",
    "phase = np.pi/2 #For specifying the cosine type of traj. use pi/2\n",
    "\n",
    "#need to scaled for desired unit..maximum in y direction\n",
    "amplitude = 100.0\n",
    "\n",
    "\n",
    "square_wave, step_size_x = generate_square_wave(amplitude, steps, phase)\n",
    "\n",
    "plt.plot(square_wave[:,0], square_wave[:,1], \"r\")\n",
    "print(square_wave)"
   ]
  },
  {
   "cell_type": "code",
   "execution_count": 12,
   "metadata": {},
   "outputs": [],
   "source": [
    "def generate_square_velocity(wave, step_size_x, time_step):\n",
    "    velocity = np.zeros((len(wave[:,1]),2))\n",
    "\n",
    "    for i in range(len(wave[:,1])-1):\n",
    "        velocity[i,0] = step_size_x/time_step\n",
    "        velocity[i,1] = (wave[i+1,1] - wave[i,1])/time_step\n",
    "        \n",
    "    return velocity\n"
   ]
  },
  {
   "cell_type": "code",
   "execution_count": 13,
   "metadata": {},
   "outputs": [
    {
     "name": "stdout",
     "output_type": "stream",
     "text": [
      "[[   1.3962634    0.       ]\n",
      " [   1.3962634    0.       ]\n",
      " [   1.3962634 -400.       ]\n",
      " [   1.3962634    0.       ]\n",
      " [   1.3962634    0.       ]\n",
      " [   1.3962634    0.       ]\n",
      " [   1.3962634  400.       ]\n",
      " [   1.3962634    0.       ]\n",
      " [   1.3962634    0.       ]\n",
      " [   0.           0.       ]]\n"
     ]
    }
   ],
   "source": [
    "time_step = 0.5\n",
    "velocity = generate_square_velocity(square_wave, step_size_x, time_step)\n",
    "print(velocity)"
   ]
  },
  {
   "cell_type": "code",
   "execution_count": null,
   "metadata": {},
   "outputs": [],
   "source": []
  }
 ],
 "metadata": {
  "anaconda-cloud": {},
  "kernelspec": {
   "display_name": "Python 3",
   "language": "python",
   "name": "python3"
  },
  "language_info": {
   "codemirror_mode": {
    "name": "ipython",
    "version": 2
   },
   "file_extension": ".py",
   "mimetype": "text/x-python",
   "name": "python",
   "nbconvert_exporter": "python",
   "pygments_lexer": "ipython2",
   "version": "2.7.6"
  }
 },
 "nbformat": 4,
 "nbformat_minor": 1
}
